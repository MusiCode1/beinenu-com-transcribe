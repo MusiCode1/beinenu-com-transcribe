{
 "cells": [
  {
   "cell_type": "markdown",
   "metadata": {},
   "source": [
    "<div dir=\"rtl\">\n",
    "    \n",
    "# מחברת תמלול שיעורים מאתר בינינו\n",
    "    \n",
    "<div dir=\"rtl\">\n",
    "\n",
    "### בהרצה הראשונה, יש להגדיר את המעבד, כמעבד GPU.\n",
    "### עבור כך יש לבחור בהגדרות בצד ימין בהגדרה \"ACCELERATOR\" יש לבחור -> GPU T4x2\n",
    "### בשימוש הראשון, יש לבצע אימות על מנת לקבל גישה לשרת עם GPU.\n",
    "### לאחר מכן יש להריץ את התאים.\n",
    "\n",
    "#### בתא הראשון יש את הורדת כל הקוד הנדרש עבור התמלול.\n",
    "#### בהרצת התא השני יש להזין את כתובת השיעור.\n",
    "#### יש להזין את הכתובת בתא שיופיע ליד ההוראה \"הזן את כתובת השיעור:\"\n",
    "#### בהרצת התא השלישי יתבצע התמלול.\n",
    "#### לאחר סיום התמלול, ניתן להוריד את קובץ הוידאו ואת קובץ התמלול.\n",
    "#### לקובץ הוידאו יש סיומת של mp4.\n",
    "#### לקובץ התמלול יש סיומת של srt."
   ]
  },
  {
   "cell_type": "markdown",
   "metadata": {},
   "source": [
    "יש להריץ את התא הבא, ולהזין את כתובת השיעור במקום המיועד"
   ]
  },
  {
   "cell_type": "code",
   "execution_count": 3,
   "metadata": {},
   "outputs": [
    {
     "name": "stdout",
     "output_type": "stream",
     "text": [
      "שם השיעור: פסח-מותר-לשאול-כל-שאלה\n"
     ]
    }
   ],
   "source": [
    "import urllib\n",
    "\n",
    "lesson_url = \"\"\n",
    "\n",
    "# exemple https://beinenu.com/lessons/%D7%9C%D7%9E%D7%94-%D7%A7%D7%A9%D7%94-%D7%9C%D7%A7%D7%91%D7%9C-%D7%94%D7%97%D7%9C%D7%98%D7%95%D7%AA\n",
    "\n",
    "try:\n",
    "    lesson_url = input(\"הזן את כתובת השיעור: \")\n",
    "    lesson_title = urllib.parse.unquote(lesson_url.rsplit('/', 1)[-1])\n",
    "    print(\"שם השיעור:\", lesson_title)\n",
    "except:\n",
    "    lesson_url = \"https://beinenu.com/lessons/%D7%9E%D7%A9%D7%9E%D7%A2%D7%95%D7%AA-%D7%94%D7%92%D7%90%D7%95%D7%9C%D7%94-%D7%94%D7%96%D7%9E%D7%A0%D7%99%D7%AA-%D7%95%D7%94%D7%A1%D7%95%D7%A4%D7%99%D7%AA\""
   ]
  },
  {
   "cell_type": "code",
   "execution_count": 4,
   "metadata": {},
   "outputs": [
    {
     "name": "stdout",
     "output_type": "stream",
     "text": [
      "Video ID: 91496\n",
      "Video URL: https://vod.wgnmedia.com/VOD/LIB.MP4/v91496.mp4\n"
     ]
    }
   ],
   "source": [
    "file_url = 'https://bit.ly/BeinenuComTranscribe'\n",
    "! pip install requests tqdm faster_whisper\n",
    "! wget {file_url} -O beinenu_com_transcribe.py\n",
    "\n",
    "import os\n",
    "from beinenu_com_transcribe import check_link, get_lesson_elements, download_file, transcribe\n",
    "\n",
    "try:\n",
    "    check_link(lesson_url)\n",
    "\n",
    "    title_rabbi, title_lessons, lessons_year, video_id, video_url = get_lesson_elements(lesson_url).values()\n",
    "    print(\"שם הרב: \", title_rabbi)\n",
    "    print(\"שם השיעור: \", title_lessons)\n",
    "    print(\"שנת השיעור: \", lessons_year)\n",
    "    print(\"מזהה הוידאו: \", video_id)\n",
    "\n",
    "    file_name = f\"{lessons_year}. {title_lessons}. {video_id}.mp4\"\n",
    "\n",
    "    current_dir = os.getcwd()\n",
    "    download_file(video_url, file_name)\n",
    "\n",
    "    transcribe(current_dir, 'srt')\n",
    "    \n",
    "    \n",
    "except Exception as e:\n",
    "    print(f\"Error: {e}\")"
   ]
  }
 ],
 "metadata": {
  "kernelspec": {
   "display_name": "Python 3",
   "language": "python",
   "name": "python3"
  },
  "language_info": {
   "codemirror_mode": {
    "name": "ipython",
    "version": 3
   },
   "file_extension": ".py",
   "mimetype": "text/x-python",
   "name": "python",
   "nbconvert_exporter": "python",
   "pygments_lexer": "ipython3",
   "version": "3.12.2"
  }
 },
 "nbformat": 4,
 "nbformat_minor": 2
}
