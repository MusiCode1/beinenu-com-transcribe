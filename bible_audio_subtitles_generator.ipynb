{
  "cells": [
    {
      "cell_type": "code",
      "execution_count": null,
      "metadata": {
        "colab": {
          "base_uri": "https://localhost:8080/"
        },
        "id": "Jg8lW6KvKuBS",
        "outputId": "d70e350e-a430-4024-9bd6-90e1786c44df"
      },
      "outputs": [
        {
          "name": "stdout",
          "output_type": "stream",
          "text": [
            "--2024-09-14 13:26:25--  https://raw.githubusercontent.com/MusiCode1/beinenu-com-transcribe/main/src/hebrew_text_utils.py\n",
            "Resolving raw.githubusercontent.com (raw.githubusercontent.com)... 185.199.108.133, 185.199.109.133, 185.199.110.133, ...\n",
            "Connecting to raw.githubusercontent.com (raw.githubusercontent.com)|185.199.108.133|:443... connected.\n",
            "HTTP request sent, awaiting response... 200 OK\n",
            "Length: 1124 (1.1K) [text/plain]\n",
            "Saving to: ‘hebrew_text_utils.py’\n",
            "\n",
            "\rhebrew_text_utils.p   0%[                    ]       0  --.-KB/s               \rhebrew_text_utils.p 100%[===================>]   1.10K  --.-KB/s    in 0s      \n",
            "\n",
            "2024-09-14 13:26:25 (40.8 MB/s) - ‘hebrew_text_utils.py’ saved [1124/1124]\n",
            "\n"
          ]
        }
      ],
      "source": [
        "!wget https://raw.githubusercontent.com/MusiCode1/beinenu-com-transcribe/main/src/hebrew_text_utils.py"
      ]
    },
    {
      "cell_type": "code",
      "execution_count": null,
      "metadata": {
        "colab": {
          "base_uri": "https://localhost:8080/"
        },
        "id": "gps2fHtfiyvJ",
        "outputId": "6cb67e2e-f058-4a96-aa32-f2c7e5c7fcdb"
      },
      "outputs": [
        {
          "name": "stdout",
          "output_type": "stream",
          "text": [
            "Mounted at /content/drive\n"
          ]
        }
      ],
      "source": [
        "from google.colab import drive\n",
        "drive.mount('/content/drive', force_remount=True)\n"
      ]
    },
    {
      "cell_type": "code",
      "execution_count": null,
      "metadata": {
        "id": "6LSqqe7kjGJw"
      },
      "outputs": [],
      "source": [
        "!ln -s /content/drive/.shortcut-targets-by-id/1BoAqCLQVJZE4w_LbexHbd2Z7SlA6snwj/יהושע/S1 /content/S1"
      ]
    },
    {
      "cell_type": "code",
      "execution_count": null,
      "metadata": {
        "colab": {
          "base_uri": "https://localhost:8080/"
        },
        "id": "2keNfs5Byqcx",
        "outputId": "94b6d6a2-2584-4d9f-e600-7079174c315f"
      },
      "outputs": [
        {
          "name": "stdout",
          "output_type": "stream",
          "text": [
            "total 115778\n",
            "-rw------- 1 root root 118548370 Sep 14 12:37 audio.wav\n",
            "-rw------- 1 root root      8018 Sep 14 12:43 full-text.txt\n",
            "-rw------- 1 root root         0 Sep 14 13:31 untitled\n",
            "ln: failed to create symbolic link '/content/S1/': No such file or directory\n"
          ]
        }
      ],
      "source": [
        "\n",
        "drive_path = \"/content/drive/.shortcut-targets-by-id/1BoAqCLQVJZE4w_LbexHbd2Z7SlA6snwj/יהושע/\"\n",
        "folder_name = \"S1\"\n",
        "local_folder_path = \"/content/\" + folder_name\n",
        "\n",
        "!ls {drive_path + folder_name} -al\n",
        "\n",
        "!ln -s {drive_path + folder_name} {local_folder_path}\n",
        "\n",
        "\n"
      ]
    },
    {
      "cell_type": "code",
      "execution_count": null,
      "metadata": {
        "colab": {
          "base_uri": "https://localhost:8080/",
          "height": 105
        },
        "id": "Ae9Qwpt0lJ9o",
        "outputId": "2890469a-a353-4a67-b2e4-d1fe498ad483"
      },
      "outputs": [
        {
          "data": {
            "application/vnd.google.colaboratory.intrinsic+json": {
              "type": "string"
            },
            "text/plain": [
              "'א ויהי, אחרי מות משה--עבד יהוה; ויאמר יהוה אל-יהושוע בן-נון, משרת משה לאמור.  ב משה עבדי, מת; ועתה קום עבור את-הירדן הזה, אתה וכל-העם הזה, אל-הארץ, אשר אנוכי נותן להם לבני ישראל.  ג כל-מקום, אשר תדרוך כף-רגלכם בו--לכם נתתיו:  כאשר דיברתי, אל-משה.  ד מהמדבר והלבנון הזה ועד-הנהר הגדול נהר-פרת, כול ארץ החיתים, ועד-הים הגדול, מבוא השמש--יהיה, גבולכם.  ה לא-יתייצב איש לפניך, כול ימי חייך:  כאשר הייתי עם-משה אהיה עימך, לא ארפך ולא אעזבך.  ו חזק, ואמץ:  כי אתה, תנחיל את-העם הזה, את-הארץ, אשר-נשבעתי לאבותם לתת להם.  ז רק חזק ואמץ מאוד, לשמור לעשות ככל-התורה--אשר ציווך משה עבדי, אל-תסור ממנו ימין ושמאל:  למען תשכיל, בכול אשר תלך.  ח לא-ימוש ספר התורה הזה מפיך, והגית בו יומם ולילה, למען תשמור לעשות, ככל-הכתוב בו:  כי-אז תצליח את-דרכיך, ואז תשכיל.  ט הלוא ציוויתיך חזק ואמץ, אל-תערוץ ואל-תיחת:  כי עימך יהוה אלוהיך, בכול אשר תלך.  {פ}\\n\\nי ויצו יהושוע, את-שוטרי העם לאמור.  יא עברו בקרב המחנה, וצוו את-העם לאמור, הכינו לכם, צידה:  כי בעוד שלושת ימים, אתם עוברים את-הירדן הזה, לבוא לרשת את-הארץ, אשר יהוה אלוהיכם נותן לכם לרשתה.  {פ}\\n\\nיב ולראובני, ולגדי, ולחצי, שבט המנשה--אמר יהושוע, לאמור.  יג זכור, את-הדבר, אשר ציווה אתכם משה עבד-יהוה, לאמור:  יהוה אלוהיכם מניח לכם, ונתן לכם את-הארץ הזאת.  יד נשיכם טפכם, ומקניכם, יישבו, בארץ אשר נתן לכם משה בעבר הירדן; ואתם תעברו חמושים לפני אחיכם, כול גיבורי החיל, ועזרתם, אותם.  טו עד אשר-יניח יהוה לאחיכם, ככם, וירשו גם-המה, את-הארץ אשר-יהוה אלוהיכם נותן להם; ושבתם לארץ ירושתכם, וירשתם אותה, אשר נתן לכם משה עבד יהוה, בעבר הירדן מזרח השמש.  טז ויענו, את-יהושוע לאמור:  כול אשר-ציוויתנו נעשה, ואל-כל-אשר תשלחנו נלך.  יז ככול אשר-שמענו אל-משה, כן נשמע אליך:  רק יהיה יהוה אלוהיך, עימך, כאשר היה, עם-משה.  יח כל-איש אשר-ימרה את-פיך, ולא-ישמע את-דבריך לכול אשר-תצוונו--יומת:  רק, חזק ואמץ.  {פ}\\n\\nא וישלח יהושוע-בן-נון מן-השיטים שניים-אנשים מרגלים, חרש לאמור, לכו ראו את-הארץ, ואת-יריחו; וילכו ויבואו בית-אישה זונה, ושמה רחב--וישכבו-שמה.  ב וייאמר, למלך יריחו לאמור:  הנה אנשים באו הנה הלילה, מבני ישראל--לחפור את-הארץ.  ג וישלח מלך יריחו, אל-רחב לאמור:  הוציאי האנשים הבאים אלייך, אשר-באו לביתך--כי לחפור את-כל-הארץ, באו.  ד ותיקח האישה את-שני האנשים, ותצפנו; ותאמר כן, באו אליי האנשים, ולא ידעתי, מאיין המה.  ה ויהי השער לסגור, בחושך והאנשים יצאו--לא ידעתי, אנה הלכו האנשים; רדפו מהר אחריהם, כי תשיגום.  ו והיא, העלתם הגגה; ותטמנם בפשתי העץ, הערוכות לה על-הגג.  ז והאנשים, רדפו אחריהם דרך הירדן, על, המעברות; והשער סגרו--אחרי, כאשר יצאו הרודפים אחריהם.  ח והמה, טרם ישכבון; והיא עלתה עליהם, על-הגג.  ט ותאמר, אל-האנשים--ידעתי, כי-נתן יהוה לכם את-הארץ; וכי-נפלה אימתכם עלינו, וכי נמוגו כל-יושבי הארץ מפניכם.  י כי שמענו, את אשר-הוביש יהוה את-מי ים-סוף מפניכם, בצאתכם, ממצריים; ואשר עשיתם לשני מלכי האמורי אשר בעבר הירדן, לסיחון ולעוג--אשר החרמתם, אותם.  יא ונשמע ויימס לבבנו, ולא-קמה עוד רוח באיש מפניכם:  כי, יהוה אלוהיכם--הוא אלוהים בשמיים ממעל, ועל-הארץ מתחת.  יב ועתה, הישבעו-נא לי ביהוה, כי-עשיתי עימכם, חסד; ועשיתם גם-אתם עם-בית אבי, חסד, ונתתם לי, אות אמת.  יג והחייתם את-אבי ואת-אימי, ואת-אחיי ואת-אחיותיי, ואת, כל-אשר להם; והצלתם את-נפשותינו, ממוות.  יד ויאמרו לה האנשים, נפשנו תחתיכם למות, אם לא תגידו, את-דברנו זה; והיה, בתת-יהוה לנו את-הארץ, ועשינו עימך, חסד ואמת.  טו ותורידם בחבל, בעד החלון:  כי ביתה בקיר החומה, ובחומה היא יושבת.  טז ותאמר להם ההרה לכו, פן-יפגעו בכם הרודפים; ונחבאתם שמה שלושת ימים, עד שוב הרודפים, ואחר, תלכו לדרככם.  יז ויאמרו אליה, האנשים:  נקיים אנחנו, משבועתך הזה אשר השבעתנו.  יח הנה אנחנו באים, בארץ; את-תקוות חוט השני הזה תקשרי, בחלון אשר הורדתנו בו, ואת-אביך ואת-אימך ואת-אחייך ואת כל-בית אביך, תאספי אלייך הביתה.  יט והיה כול אשר-ייצא מדלתי ביתך החוצה, דמו בראשו--ואנחנו נקיים; וכול אשר יהיה איתך, בבית--דמו בראשנו, אם-יד תהיה-בו.  כ ואם-תגידי, את-דברנו זה--והיינו נקיים, משבועתך אשר השבעתנו.  כא ותאמר כדבריכם כן-הוא, ותשלחם וילכו; ותקשור את-תקוות השני, בחלון.  כב וילכו, ויבואו ההרה, ויישבו שם שלושת ימים, עד-שבו הרודפים; ויבקשו הרודפים בכל-הדרך, ולא מצאו.  כג וישובו שני האנשים, ויירדו מההר, ויעברו ויבואו, אל-יהושוע בן-נון; ויספרו-לו--את כל-המוצאות, אותם.  כד ויאמרו, אל-יהושוע, כי-נתן יהוה בידנו, את-כל-הארץ; וגם-נמוגו כל-יושבי הארץ, מפנינו.  {ס}\\n\\nא וישכם יהושוע בבוקר ויסעו מהשיטים, ויבואו עד-הירדן--הוא, וכל-בני ישראל; וילינו שם, טרם יעבורו.  ב ויהי, מקצה שלושת ימים; ויעברו השוטרים, בקרב המחנה.  ג ויצוו, את-העם לאמור, כראותכם את ארון ברית-יהוה אלוהיכם, והכוהנים הלויים נושאים אותו--ואתם, תסעו ממקומכם, והלכתם, אחריו.  ד אך רחוק יהיה, ביניכם וביניו, כאלפיים אמה, במידה:  אל-תקרבו אליו, למען אשר-תדעו את-הדרך אשר תלכו-בה--כי לא עברתם בדרך, מתמול שלשום.  {פ}\\n\\nה ויאמר יהושוע אל-העם, התקדשו:  כי מחר, יעשה יהוה בקרבכם--נפלאות.  ו ויאמר יהושוע, אל-הכוהנים לאמור, שאו את-ארון הברית, ועברו לפני העם; וישאו את-ארון הברית, וילכו לפני העם.  {ס}\\n'"
            ]
          },
          "execution_count": 13,
          "metadata": {},
          "output_type": "execute_result"
        }
      ],
      "source": [
        "\n",
        "\n",
        "text = \"\"\n",
        "file_path = local_folder_path + \"/full-text.txt\"\n",
        "\n",
        "with open(file_path, 'r') as file:\n",
        "\n",
        "    text = file.read()\n",
        "\n",
        "\n",
        "text"
      ]
    },
    {
      "cell_type": "code",
      "execution_count": null,
      "metadata": {
        "colab": {
          "base_uri": "https://localhost:8080/",
          "height": 105
        },
        "id": "8HGHS9ykJNQd",
        "outputId": "59fc02f0-873f-4df3-d453-6d5f4d420283"
      },
      "outputs": [
        {
          "data": {
            "application/vnd.google.colaboratory.intrinsic+json": {
              "type": "string"
            },
            "text/plain": [
              "'ויהי, אחרי מות משה עבד יהוה, ויאמר יהוה אל-יהושוע בן-נון, משרת משה לאמור. משה עבדי, מת, ועתה קום עבור את-הירדן הזה, אתה וכל-העם הזה, אל-הארץ, אשר אנוכי נותן להם לבני ישראל. כל-מקום, אשר תדרוך כף-רגלכם בו לכם נתתיו, כאשר דיברתי, אל-משה. מהמדבר והלבנון הזה ועד-הנהר הגדול נהר-פרת, כול ארץ החיתים, ועד-הים הגדול, מבוא השמש יהיה, גבולכם. לא-יתייצב איש לפניך, כול ימי חייך, כאשר הייתי עם-משה אהיה עימך, לא ארפך ולא אעזבך. חזק, ואמץ, אתה, תנחיל את-העם הזה, את-הארץ, אשר-נשבעתי לאבותם לתת להם. רק חזק ואמץ מאוד, לשמור לעשות ככל-התורה אשר ציווך משה עבדי, אל-תסור ממנו ימין ושמאל, למען תשכיל, בכול אשר תלך. לא-ימוש ספר התורה הזה מפיך, והגית בו יומם ולילה, למען תשמור לעשות, ככל-הכתוב בו, כי-אז תצליח את-דרכיך, ואז תשכיל. הלוא ציוויתיך חזק ואמץ, אל-תערוץ ואל-תיחת, עימך יהוה אלוהיך, בכול אשר תלך. ויצו יהושוע, את-שוטרי העם לאמור. עברו בקרב המחנה, וצוו את-העם לאמור, הכינו לכם, צידה, בעוד שלושת ימים, אתם עוברים את-הירדן הזה, לבוא לרשת את-הארץ, אשר יהוה אלוהיכם נותן לכם לרשתה. ולראובני, ולגדי, ולחצי, שבט המנשה אמר יהושוע, לאמור. זכור, את-הדבר, אשר ציווה אתכם משה עבד-יהוה, לאמור, יהוה אלוהיכם מניח לכם, ונתן לכם את-הארץ הזאת. נשיכם טפכם, ומקניכם, יישבו, בארץ אשר נתן לכם משה בעבר הירדן, ואתם תעברו חמושים לפני אחיכם, כול גיבורי החיל, ועזרתם, אותם. עד אשר-יניח יהוה לאחיכם, ככם, וירשו גם-המה, את-הארץ אשר-יהוה אלוהיכם נותן להם, ושבתם לארץ ירושתכם, וירשתם אותה, אשר נתן לכם משה עבד יהוה, בעבר הירדן מזרח השמש. ויענו, את-יהושוע לאמור, כול אשר-ציוויתנו נעשה, ואל-כל-אשר תשלחנו נלך. ככול אשר-שמענו אל-משה, כן נשמע אליך, יהיה יהוה אלוהיך, עימך, כאשר היה, עם-משה. כל-איש אשר-ימרה את-פיך, ולא-ישמע את-דבריך לכול אשר-תצוונו יומת, רק, חזק ואמץ. וישלח יהושוע-בן-נון מן-השיטים שניים-אנשים מרגלים, חרש לאמור, לכו ראו את-הארץ, ואת-יריחו, וילכו ויבואו בית-אישה זונה, ושמה רחב וישכבו-שמה. וייאמר, למלך יריחו לאמור, הנה אנשים באו הנה הלילה, מבני ישראל לחפור את-הארץ. וישלח מלך יריחו, אל-רחב לאמור, הוציאי האנשים הבאים אלייך, אשר-באו לביתך כי לחפור את-כל-הארץ, באו. ותיקח האישה את-שני האנשים, ותצפנו, ותאמר כן, באו אליי האנשים, ולא ידעתי, מאיין המה. ויהי השער לסגור, בחושך והאנשים יצאו לא ידעתי, אנה הלכו האנשים, רדפו מהר אחריהם, כי תשיגום. והיא, העלתם הגגה, ותטמנם בפשתי העץ, הערוכות לה על-הגג. והאנשים, רדפו אחריהם דרך הירדן, על, המעברות, והשער סגרו אחרי, כאשר יצאו הרודפים אחריהם. והמה, טרם ישכבון, והיא עלתה עליהם, על-הגג. ותאמר, אל-האנשים ידעתי, כי-נתן יהוה לכם את-הארץ, וכי-נפלה אימתכם עלינו, וכי נמוגו כל-יושבי הארץ מפניכם. כי שמענו, את אשר-הוביש יהוה את-מי ים-סוף מפניכם, בצאתכם, ממצריים, ואשר עשיתם לשני מלכי האמורי אשר בעבר הירדן, לסיחון ולעוג אשר החרמתם, אותם. ונשמע ויימס לבבנו, ולא-קמה עוד רוח באיש מפניכם, כי, יהוה אלוהיכם הוא אלוהים בשמיים ממעל, ועל-הארץ מתחת. ועתה, הישבעו-נא לי ביהוה, כי-עשיתי עימכם, חסד, ועשיתם גם-אתם עם-בית אבי, חסד, ונתתם לי, אות אמת. והחייתם את-אבי ואת-אימי, ואת-אחיי ואת-אחיותיי, ואת, כל-אשר להם, והצלתם את-נפשותינו, ממוות. ויאמרו לה האנשים, נפשנו תחתיכם למות, אם לא תגידו, את-דברנו זה, והיה, בתת-יהוה לנו את-הארץ, ועשינו עימך, חסד ואמת. ותורידם בחבל, בעד החלון, ביתה בקיר החומה, ובחומה היא יושבת. ותאמר להם ההרה לכו, פן-יפגעו בכם הרודפים, ונחבאתם שמה שלושת ימים, עד שוב הרודפים, ואחר, תלכו לדרככם. ויאמרו אליה, האנשים, נקיים אנחנו, משבועתך הזה אשר השבעתנו. הנה אנחנו באים, בארץ, את-תקוות חוט השני הזה תקשרי, בחלון אשר הורדתנו בו, ואת-אביך ואת-אימך ואת-אחייך ואת כל-בית אביך, תאספי אלייך הביתה. והיה כול אשר-ייצא מדלתי ביתך החוצה, דמו בראשו ואנחנו נקיים, וכול אשר יהיה איתך, בבית דמו בראשנו, אם-יד תהיה-בו. ואם-תגידי, את-דברנו זה והיינו נקיים, משבועתך אשר השבעתנו. ותאמר כדבריכם כן-הוא, ותשלחם וילכו, ותקשור את-תקוות השני, בחלון. וילכו, ויבואו ההרה, ויישבו שם שלושת ימים, עד-שבו הרודפים, ויבקשו הרודפים בכל-הדרך, ולא מצאו. וישובו שני האנשים, ויירדו מההר, ויעברו ויבואו, אל-יהושוע בן-נון, ויספרו-לו את כל-המוצאות, אותם. ויאמרו, אל-יהושוע, כי-נתן יהוה בידנו, את-כל-הארץ, וגם-נמוגו כל-יושבי הארץ, מפנינו. וישכם יהושוע בבוקר ויסעו מהשיטים, ויבואו עד-הירדן הוא, וכל-בני ישראל, וילינו שם, טרם יעבורו. ויהי, מקצה שלושת ימים, ויעברו השוטרים, בקרב המחנה. ויצוו, את-העם לאמור, כראותכם את ארון ברית-יהוה אלוהיכם, והכוהנים הלויים נושאים אותו ואתם, תסעו ממקומכם, והלכתם, אחריו. אך רחוק יהיה, ביניכם וביניו, כאלפיים אמה, במידה, אל-תקרבו אליו, למען אשר-תדעו את-הדרך אשר תלכו-בה כי לא עברתם בדרך, מתמול שלשום. ויאמר יהושוע אל-העם, התקדשו, מחר, יעשה יהוה בקרבכם נפלאות. ויאמר יהושוע, אל-הכוהנים לאמור, שאו את-ארון הברית, ועברו לפני העם, וישאו את-ארון הברית, וילכו לפני העם.'"
            ]
          },
          "execution_count": 14,
          "metadata": {},
          "output_type": "execute_result"
        }
      ],
      "source": [
        "from hebrew_text_utils import (\n",
        "  clean_the_text\n",
        ")\n",
        "\n",
        "\n",
        "clean_text = clean_the_text(text)\n",
        "\n",
        "\n",
        "with open(local_folder_path + '/text.txt', 'w') as file:\n",
        "\n",
        "    file.write(clean_text)\n",
        "\n",
        "\n",
        "clean_text"
      ]
    },
    {
      "cell_type": "code",
      "execution_count": null,
      "metadata": {
        "colab": {
          "base_uri": "https://localhost:8080/"
        },
        "id": "JITai5yL1TCA",
        "outputId": "e9f26b9d-a6c7-4761-8c03-39c211d1689d"
      },
      "outputs": [
        {
          "name": "stdout",
          "output_type": "stream",
          "text": [
            "Collecting stable-ts\n",
            "  Downloading stable-ts-2.17.4.tar.gz (150 kB)\n",
            "\u001b[2K     \u001b[90m━━━━━━━━━━━━━━━━━━━━━━━━━━━━━━━━━━━━━━━━\u001b[0m \u001b[32m150.1/150.1 kB\u001b[0m \u001b[31m4.7 MB/s\u001b[0m eta \u001b[36m0:00:00\u001b[0m\n",
            "\u001b[?25h  Preparing metadata (setup.py) ... \u001b[?25l\u001b[?25hdone\n",
            "Requirement already satisfied: numpy in /usr/local/lib/python3.10/dist-packages (from stable-ts) (1.26.4)\n",
            "Requirement already satisfied: torch in /usr/local/lib/python3.10/dist-packages (from stable-ts) (2.4.0+cu121)\n",
            "Requirement already satisfied: torchaudio in /usr/local/lib/python3.10/dist-packages (from stable-ts) (2.4.0+cu121)\n",
            "Requirement already satisfied: tqdm in /usr/local/lib/python3.10/dist-packages (from stable-ts) (4.66.5)\n",
            "Collecting openai-whisper==20231117 (from stable-ts)\n",
            "  Downloading openai-whisper-20231117.tar.gz (798 kB)\n",
            "\u001b[2K     \u001b[90m━━━━━━━━━━━━━━━━━━━━━━━━━━━━━━━━━━━━━━━━\u001b[0m \u001b[32m798.6/798.6 kB\u001b[0m \u001b[31m26.3 MB/s\u001b[0m eta \u001b[36m0:00:00\u001b[0m\n",
            "\u001b[?25h  Installing build dependencies ... \u001b[?25l\u001b[?25hdone\n",
            "  Getting requirements to build wheel ... \u001b[?25l\u001b[?25hdone\n",
            "  Preparing metadata (pyproject.toml) ... \u001b[?25l\u001b[?25hdone\n",
            "Collecting triton<3,>=2.0.0 (from openai-whisper==20231117->stable-ts)\n",
            "  Downloading triton-2.3.1-cp310-cp310-manylinux_2_17_x86_64.manylinux2014_x86_64.whl.metadata (1.4 kB)\n",
            "Requirement already satisfied: numba in /usr/local/lib/python3.10/dist-packages (from openai-whisper==20231117->stable-ts) (0.60.0)\n",
            "Requirement already satisfied: more-itertools in /usr/local/lib/python3.10/dist-packages (from openai-whisper==20231117->stable-ts) (10.3.0)\n",
            "Collecting tiktoken (from openai-whisper==20231117->stable-ts)\n",
            "  Downloading tiktoken-0.7.0-cp310-cp310-manylinux_2_17_x86_64.manylinux2014_x86_64.whl.metadata (6.6 kB)\n",
            "Requirement already satisfied: filelock in /usr/local/lib/python3.10/dist-packages (from torch->stable-ts) (3.16.0)\n",
            "Requirement already satisfied: typing-extensions>=4.8.0 in /usr/local/lib/python3.10/dist-packages (from torch->stable-ts) (4.12.2)\n",
            "Requirement already satisfied: sympy in /usr/local/lib/python3.10/dist-packages (from torch->stable-ts) (1.13.2)\n",
            "Requirement already satisfied: networkx in /usr/local/lib/python3.10/dist-packages (from torch->stable-ts) (3.3)\n",
            "Requirement already satisfied: jinja2 in /usr/local/lib/python3.10/dist-packages (from torch->stable-ts) (3.1.4)\n",
            "Requirement already satisfied: fsspec in /usr/local/lib/python3.10/dist-packages (from torch->stable-ts) (2024.6.1)\n",
            "Requirement already satisfied: MarkupSafe>=2.0 in /usr/local/lib/python3.10/dist-packages (from jinja2->torch->stable-ts) (2.1.5)\n",
            "Requirement already satisfied: llvmlite<0.44,>=0.43.0dev0 in /usr/local/lib/python3.10/dist-packages (from numba->openai-whisper==20231117->stable-ts) (0.43.0)\n",
            "Requirement already satisfied: mpmath<1.4,>=1.1.0 in /usr/local/lib/python3.10/dist-packages (from sympy->torch->stable-ts) (1.3.0)\n",
            "Requirement already satisfied: regex>=2022.1.18 in /usr/local/lib/python3.10/dist-packages (from tiktoken->openai-whisper==20231117->stable-ts) (2024.5.15)\n",
            "Requirement already satisfied: requests>=2.26.0 in /usr/local/lib/python3.10/dist-packages (from tiktoken->openai-whisper==20231117->stable-ts) (2.32.3)\n",
            "Requirement already satisfied: charset-normalizer<4,>=2 in /usr/local/lib/python3.10/dist-packages (from requests>=2.26.0->tiktoken->openai-whisper==20231117->stable-ts) (3.3.2)\n",
            "Requirement already satisfied: idna<4,>=2.5 in /usr/local/lib/python3.10/dist-packages (from requests>=2.26.0->tiktoken->openai-whisper==20231117->stable-ts) (3.8)\n",
            "Requirement already satisfied: urllib3<3,>=1.21.1 in /usr/local/lib/python3.10/dist-packages (from requests>=2.26.0->tiktoken->openai-whisper==20231117->stable-ts) (2.0.7)\n",
            "Requirement already satisfied: certifi>=2017.4.17 in /usr/local/lib/python3.10/dist-packages (from requests>=2.26.0->tiktoken->openai-whisper==20231117->stable-ts) (2024.8.30)\n",
            "Downloading triton-2.3.1-cp310-cp310-manylinux_2_17_x86_64.manylinux2014_x86_64.whl (168.1 MB)\n",
            "\u001b[2K   \u001b[90m━━━━━━━━━━━━━━━━━━━━━━━━━━━━━━━━━━━━━━━━\u001b[0m \u001b[32m168.1/168.1 MB\u001b[0m \u001b[31m6.5 MB/s\u001b[0m eta \u001b[36m0:00:00\u001b[0m\n",
            "\u001b[?25hDownloading tiktoken-0.7.0-cp310-cp310-manylinux_2_17_x86_64.manylinux2014_x86_64.whl (1.1 MB)\n",
            "\u001b[2K   \u001b[90m━━━━━━━━━━━━━━━━━━━━━━━━━━━━━━━━━━━━━━━━\u001b[0m \u001b[32m1.1/1.1 MB\u001b[0m \u001b[31m48.9 MB/s\u001b[0m eta \u001b[36m0:00:00\u001b[0m\n",
            "\u001b[?25hBuilding wheels for collected packages: stable-ts, openai-whisper\n",
            "  Building wheel for stable-ts (setup.py) ... \u001b[?25l\u001b[?25hdone\n",
            "  Created wheel for stable-ts: filename=stable_ts-2.17.4-py3-none-any.whl size=132549 sha256=b3666a67779abeca14bc7915b35582593f1183ca727cbca24fa934a0bf2617e8\n",
            "  Stored in directory: /root/.cache/pip/wheels/89/24/3a/410a0f08aa63a353c1fd10f6c6cf7222b7ac42c401215f75af\n",
            "  Building wheel for openai-whisper (pyproject.toml) ... \u001b[?25l\u001b[?25hdone\n",
            "  Created wheel for openai-whisper: filename=openai_whisper-20231117-py3-none-any.whl size=801360 sha256=f281ef04dc5258bcafcfa1842803f9e250ab0d5d3492a06aa22c55a446abc0b6\n",
            "  Stored in directory: /root/.cache/pip/wheels/d0/85/e1/9361b4cbea7dd4b7f6702fa4c3afc94877952eeb2b62f45f56\n",
            "Successfully built stable-ts openai-whisper\n",
            "Installing collected packages: triton, tiktoken, openai-whisper, stable-ts\n",
            "Successfully installed openai-whisper-20231117 stable-ts-2.17.4 tiktoken-0.7.0 triton-2.3.1\n"
          ]
        }
      ],
      "source": [
        "! pip install -U stable-ts"
      ]
    },
    {
      "cell_type": "code",
      "execution_count": null,
      "metadata": {
        "colab": {
          "base_uri": "https://localhost:8080/"
        },
        "id": "KQsLFtE23dXc",
        "outputId": "bb0c5967-2597-4ab1-e807-ac8a3f750940"
      },
      "outputs": [
        {
          "name": "stderr",
          "output_type": "stream",
          "text": [
            "100%|█████████████████████████████████████| 2.87G/2.87G [00:36<00:00, 85.1MiB/s]\n",
            "/usr/local/lib/python3.10/dist-packages/whisper/__init__.py:146: FutureWarning: You are using `torch.load` with `weights_only=False` (the current default value), which uses the default pickle module implicitly. It is possible to construct malicious pickle data which will execute arbitrary code during unpickling (See https://github.com/pytorch/pytorch/blob/main/SECURITY.md#untrusted-models for more details). In a future release, the default value for `weights_only` will be flipped to `True`. This limits the functions that could be executed during unpickling. Arbitrary objects will no longer be allowed to be loaded via this mode unless they are explicitly allowlisted by the user via `torch.serialization.add_safe_globals`. We recommend you start setting `weights_only=True` for any use case where you don't have full control of the loaded file. Please open an issue on GitHub for any issues related to this experimental feature.\n",
            "  checkpoint = torch.load(fp, map_location=device)\n"
          ]
        }
      ],
      "source": [
        "import stable_whisper\n",
        "model = stable_whisper.load_model('large-v2')\n"
      ]
    },
    {
      "cell_type": "code",
      "execution_count": null,
      "metadata": {
        "colab": {
          "base_uri": "https://localhost:8080/"
        },
        "id": "AT2UoKwQ04bF",
        "outputId": "64007f88-3291-440e-daff-1bd2f203c93a"
      },
      "outputs": [
        {
          "name": "stderr",
          "output_type": "stream",
          "text": [
            "Align: 100%|██████████| 672.04/672.04 [00:33<00:00, 19.82sec/s]\n",
            "Adjustment: 100%|██████████| 671.46/671.46 [00:00<00:00, 7245.81sec/s]"
          ]
        },
        {
          "name": "stdout",
          "output_type": "stream",
          "text": [
            "<stable_whisper.result.WhisperResult object at 0x7d62cd66c730>\n"
          ]
        },
        {
          "name": "stderr",
          "output_type": "stream",
          "text": [
            "\n"
          ]
        }
      ],
      "source": [
        "audio_file = \"/content/S1/audio.wav\"\n",
        "\n",
        "result = model.align(audio_file, clean_text, language='he')\n",
        "print(result)"
      ]
    },
    {
      "cell_type": "code",
      "execution_count": null,
      "metadata": {
        "colab": {
          "base_uri": "https://localhost:8080/"
        },
        "id": "nNAX908v1ET7",
        "outputId": "6aff1a2f-0e91-4112-c23d-a9431769f3f7"
      },
      "outputs": [
        {
          "name": "stdout",
          "output_type": "stream",
          "text": [
            "Saved: /content/S1/audio.srt\n",
            "Saved: /content/audio.json\n"
          ]
        }
      ],
      "source": [
        "result.to_srt_vtt('/content/S1/audio.srt', word_level=False)\n",
        "result.save_as_json('/content/audio.json')"
      ]
    },
    {
      "cell_type": "code",
      "execution_count": null,
      "metadata": {
        "colab": {
          "base_uri": "https://localhost:8080/"
        },
        "id": "qTOEE3Jv2wNF",
        "outputId": "0700c2f7-cb0a-4f7b-95a7-f95568a1cec6"
      },
      "outputs": [
        {
          "name": "stdout",
          "output_type": "stream",
          "text": [
            "ויהי כאשר-תמו כל-הגוי, לעבור את-הירדן,\n",
            "ויאמר יהוה,\n",
            "אל-יהושוע לאמור.\n",
            "קחו לכם מן-העם,\n",
            "שנים עשר אנשים איש-אחד איש-אחד, משבט.\n",
            "וצוו אותם, לאמור,\n",
            "שאו-לכם מזה מתוך הירדן\n",
            "ממצב רגלי הכוהנים,\n",
            "הכין שתים-עשרה אבנים,\n",
            "והעברתם אותם, עימכם,\n",
            "והנחתם אותם, במלון אשר-תלינו הלילה.\n",
            "ויקרא יהושוע,\n",
            "אל-שנים העשר איש,\n",
            "אשר הכין, מבני ישראל איש-אחד איש-אחד, משבט.\n",
            "ויאמר להם, יהושוע,\n",
            "עברו לפני ארון יהוה אלוהיכם,\n",
            "אל-תוך הירדן,\n",
            "והרימו לכם איש אבן אחת, על-שכמו,\n",
            "למספר,\n",
            "שבטי בני-ישראל.\n",
            "למען, תהיה זאת אות בקרבכם,\n",
            "כי-ישאלון בניכם מחר לאמור,\n",
            "האבנים\n",
            "האלה לכם.\n",
            "ואמרתם להם,\n",
            "אשר נכרתו מימי הירדן\n",
            "מפני ארון ברית-יהוה בעוברו בירדן, נכרתו הירדן,\n",
            "והיו האבנים האלה לזיכרון,\n",
            "לבני ישראל עד-עולם.\n",
            "ויעשו-כן בני-ישראל,\n",
            "כאשר ציווה יהושוע,\n",
            "וישאו שתי-עשרה אבנים מתוך הירדן כאשר דיבר יהוה אל-יהושוע,\n",
            "למספר שבטי בני-ישראל,\n",
            "ויעבירום עימם אל-המלון,\n",
            "ויניחום שם.\n",
            "ושתים עשרה אבנים,\n",
            "הקים יהושוע בתוך הירדן תחת מצב רגלי הכוהנים,\n",
            "נושאי ארון הברית,\n",
            "ויהיו שם,\n",
            "היום הזה.\n",
            "והכוהנים נושאי הארון,\n",
            "עומדים בתוך הירדן,\n",
            "תום כל-הדבר אשר-ציווה\n",
            "יהוה את-יהושוע לדבר אל-העם,\n",
            "ככול אשר-ציווה משה את-יהושוע,\n",
            "וימהרו העם, ויעבורו.\n",
            "ויהי כאשר-תם כל-העם, לעבור,\n",
            "ויעבור ארון-יהוה והכוהנים,\n",
            "לפני העם.\n",
            "ויעברו בני-ראובן ובני-גד וחצי שבט המנשה,\n",
            "חמושים, לפני, בני ישראל כאשר דיבר אליהם, משה.\n",
            "כארבעים אלף, חלוצי הצבא עברו לפני יהוה, למלחמה,\n",
            "אל, ערבות יריחו.\n",
            "ביום ההוא,\n",
            "גידל יהוה את-יהושוע, בעיני,\n",
            "כל-ישראל,\n",
            "וייראו אותו,\n",
            "כאשר יראו את-משה כל-ימי חייו.\n",
            "ויאמר יהוה,\n",
            "אל-יהושוע לאמור.\n",
            "צווה, את-הכוהנים,\n",
            "נושאי, ארון העדות,\n",
            "ויעלו, מן-הירדן.\n",
            "ויצו יהושוע, את-הכוהנים לאמור,\n",
            "עלו, מן-הירדן.\n",
            "ויהי כעלות הכוהנים נושאי ארון ברית-יהוה, מתוך הירדן,\n",
            "ניתקו כפות רגלי הכוהנים,\n",
            "החרבה,\n",
            "וישובו מי-הירדן למקומם,\n",
            "וילכו כתמול-שלשום על-כל-גדותיו.\n",
            "והעם, עלו מן-הירדן,\n",
            "בעשור,\n",
            "לחודש הראשון,\n",
            "ויחנו, בגלגל, בקצה, מזרח יריחו.\n",
            "ואת שתים עשרה האבנים האלה,\n",
            "אשר לקחו מן-הירדן\n",
            "הקים יהושוע, בגלגל.\n",
            "ויאמר אל-בני ישראל,\n",
            "לאמור,\n",
            "אשר ישאלון בניכם מחר את-אבותם לאמור,\n",
            "האבנים האלה.\n",
            "והודעתם, את-בניכם לאמור,\n",
            "ביבשה עבר ישראל, את-הירדן הזה.\n",
            "אשר-הוביש יהוה אלוהיכם את-מי הירדן, מפניכם עד-עוברכם,\n",
            "כאשר עשה יהוה אלוהיכם לים-סוף אשר-הוביש מפנינו,\n",
            "עד-עוברנו.\n",
            "למען דעת כל-עמי הארץ, את-יד יהוה,\n",
            "חזקה, היא למען יראתם את-יהוה אלוהיכם,\n",
            "כל-הימים.\n"
          ]
        }
      ],
      "source": [
        "print(result.to_txt())"
      ]
    },
    {
      "cell_type": "code",
      "execution_count": null,
      "metadata": {
        "colab": {
          "base_uri": "https://localhost:8080/"
        },
        "id": "mC4WIPAHtMre",
        "outputId": "9a9470e2-3554-4624-c53c-2d561d89238b"
      },
      "outputs": [
        {
          "name": "stdout",
          "output_type": "stream",
          "text": [
            "--2024-05-17 18:00:51--  https://upload.wikimedia.org/wikipedia/commons/d/d7/F_Joshua-S01_Asael.oga\n",
            "Resolving upload.wikimedia.org (upload.wikimedia.org)... 198.35.26.112, 2620:0:863:ed1a::2:b\n",
            "Connecting to upload.wikimedia.org (upload.wikimedia.org)|198.35.26.112|:443... connected.\n",
            "HTTP request sent, awaiting response... 200 OK\n",
            "Length: 8307412 (7.9M) [application/ogg]\n",
            "Saving to: ‘audio.oga’\n",
            "\n",
            "audio.oga           100%[===================>]   7.92M  23.0MB/s    in 0.3s    \n",
            "\n",
            "2024-05-17 18:00:51 (23.0 MB/s) - ‘audio.oga’ saved [8307412/8307412]\n",
            "\n"
          ]
        }
      ],
      "source": [
        "! wget https://upload.wikimedia.org/wikipedia/commons/d/d7/F_Joshua-S01_Asael.oga -O audio.oga"
      ]
    },
    {
      "cell_type": "code",
      "execution_count": null,
      "metadata": {
        "colab": {
          "base_uri": "https://localhost:8080/"
        },
        "id": "mhSRABfjud7I",
        "outputId": "57a9d6c0-1a12-4220-ebb3-d8d68ca9de90"
      },
      "outputs": [
        {
          "name": "stdout",
          "output_type": "stream",
          "text": [
            "ffmpeg version 4.4.2-0ubuntu0.22.04.1 Copyright (c) 2000-2021 the FFmpeg developers\n",
            "  built with gcc 11 (Ubuntu 11.2.0-19ubuntu1)\n",
            "  configuration: --prefix=/usr --extra-version=0ubuntu0.22.04.1 --toolchain=hardened --libdir=/usr/lib/x86_64-linux-gnu --incdir=/usr/include/x86_64-linux-gnu --arch=amd64 --enable-gpl --disable-stripping --enable-gnutls --enable-ladspa --enable-libaom --enable-libass --enable-libbluray --enable-libbs2b --enable-libcaca --enable-libcdio --enable-libcodec2 --enable-libdav1d --enable-libflite --enable-libfontconfig --enable-libfreetype --enable-libfribidi --enable-libgme --enable-libgsm --enable-libjack --enable-libmp3lame --enable-libmysofa --enable-libopenjpeg --enable-libopenmpt --enable-libopus --enable-libpulse --enable-librabbitmq --enable-librubberband --enable-libshine --enable-libsnappy --enable-libsoxr --enable-libspeex --enable-libsrt --enable-libssh --enable-libtheora --enable-libtwolame --enable-libvidstab --enable-libvorbis --enable-libvpx --enable-libwebp --enable-libx265 --enable-libxml2 --enable-libxvid --enable-libzimg --enable-libzmq --enable-libzvbi --enable-lv2 --enable-omx --enable-openal --enable-opencl --enable-opengl --enable-sdl2 --enable-pocketsphinx --enable-librsvg --enable-libmfx --enable-libdc1394 --enable-libdrm --enable-libiec61883 --enable-chromaprint --enable-frei0r --enable-libx264 --enable-shared\n",
            "  libavutil      56. 70.100 / 56. 70.100\n",
            "  libavcodec     58.134.100 / 58.134.100\n",
            "  libavformat    58. 76.100 / 58. 76.100\n",
            "  libavdevice    58. 13.100 / 58. 13.100\n",
            "  libavfilter     7.110.100 /  7.110.100\n",
            "  libswscale      5.  9.100 /  5.  9.100\n",
            "  libswresample   3.  9.100 /  3.  9.100\n",
            "  libpostproc    55.  9.100 / 55.  9.100\n",
            "Input #0, ogg, from 'audio.oga':\n",
            "  Duration: 00:11:12.04, start: 0.000000, bitrate: 98 kb/s\n",
            "  Stream #0:0: Audio: vorbis, 44100 Hz, stereo, fltp, 160 kb/s\n",
            "Stream mapping:\n",
            "  Stream #0:0 -> #0:0 (vorbis (native) -> pcm_s16le (native))\n",
            "Press [q] to stop, [?] for help\n",
            "Output #0, wav, to 'audio.wav':\n",
            "  Metadata:\n",
            "    ISFT            : Lavf58.76.100\n",
            "  Stream #0:0: Audio: pcm_s16le ([1][0][0][0] / 0x0001), 16000 Hz, mono, s16, 256 kb/s\n",
            "    Metadata:\n",
            "      encoder         : Lavc58.134.100 pcm_s16le\n",
            "size=   21002kB time=00:11:12.04 bitrate= 256.0kbits/s speed= 500x    \n",
            "video:0kB audio:21002kB subtitle:0kB other streams:0kB global headers:0kB muxing overhead: 0.000363%\n"
          ]
        }
      ],
      "source": [
        "! ffmpeg -y -i \"audio.oga\" -ac 1 -ar 16000 \"audio.wav\""
      ]
    }
  ],
  "metadata": {
    "accelerator": "GPU",
    "colab": {
      "gpuType": "T4",
      "provenance": []
    },
    "kernelspec": {
      "display_name": "Python 3",
      "name": "python3"
    },
    "language_info": {
      "codemirror_mode": {
        "name": "ipython",
        "version": 3
      },
      "file_extension": ".py",
      "mimetype": "text/x-python",
      "name": "python",
      "nbconvert_exporter": "python",
      "pygments_lexer": "ipython3",
      "version": "3.12.2"
    }
  },
  "nbformat": 4,
  "nbformat_minor": 0
}
