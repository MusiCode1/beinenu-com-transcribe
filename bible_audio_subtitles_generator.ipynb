{
  "cells": [
    {
      "cell_type": "code",
      "execution_count": 1,
      "metadata": {
        "id": "2keNfs5Byqcx"
      },
      "outputs": [],
      "source": [
        "text = \"\"\"א וישלח יהושע-בן-נון מן-השטים שנים-אנשים מרגלים, חרש לאמר, לכו ראו את-הארץ, ואת-יריחו; וילכו ויבאו בית-אשה זונה, ושמה רחב--וישכבו-שמה.  ב ויאמר, למלך יריחו לאמר:  הנה אנשים באו הנה הלילה, מבני ישראל--לחפר את-הארץ.  ג וישלח מלך יריחו, אל-רחב לאמר:  הוציאי האנשים הבאים אליך, אשר-באו לביתך--כי לחפר את-כל-הארץ, באו.  ד ותקח האשה את-שני האנשים, ותצפנו; ותאמר כן, באו אלי האנשים, ולא ידעתי, מאין המה.  ה ויהי השער לסגור, בחשך והאנשים יצאו--לא ידעתי, אנה הלכו האנשים; רדפו מהר אחריהם, כי תשיגום.  ו והיא, העלתם הגגה; ותטמנם בפשתי העץ, הערכות לה על-הגג.  ז והאנשים, רדפו אחריהם דרך הירדן, על, המעברות; והשער סגרו--אחרי, כאשר יצאו הרדפים אחריהם.  ח והמה, טרם ישכבון; והיא עלתה עליהם, על-הגג.  ט ותאמר, אל-האנשים--ידעתי, כי-נתן יהוה לכם את-הארץ; וכי-נפלה אימתכם עלינו, וכי נמגו כל-ישבי הארץ מפניכם.  י כי שמענו, את אשר-הוביש יהוה את-מי ים-סוף מפניכם, בצאתכם, ממצרים; ואשר עשיתם לשני מלכי האמרי אשר בעבר הירדן, לסיחן ולעוג--אשר החרמתם, אותם.  יא ונשמע וימס לבבנו, ולא-קמה עוד רוח באיש מפניכם:  כי, יהוה אלהיכם--הוא אלהים בשמים ממעל, ועל-הארץ מתחת.  יב ועתה, השבעו-נא לי ביהוה, כי-עשיתי עמכם, חסד; ועשיתם גם-אתם עם-בית אבי, חסד, ונתתם לי, אות אמת.  יג והחיתם את-אבי ואת-אמי, ואת-אחי ואת-אחותי אחיותי, ואת, כל-אשר להם; והצלתם את-נפשתינו, ממות.  יד ויאמרו לה האנשים, נפשנו תחתיכם למות, אם לא תגידו, את-דברנו זה; והיה, בתת-יהוה לנו את-הארץ, ועשינו עמך, חסד ואמת.  טו ותורדם בחבל, בעד החלון:  כי ביתה בקיר החומה, ובחומה היא יושבת.  טז ותאמר להם ההרה לכו, פן-יפגעו בכם הרדפים; ונחבתם שמה שלשת ימים, עד שוב הרדפים, ואחר, תלכו לדרככם.  יז ויאמרו אליה, האנשים:  נקים אנחנו, משבעתך הזה אשר השבעתנו.  יח הנה אנחנו באים, בארץ; את-תקות חוט השני הזה תקשרי, בחלון אשר הורדתנו בו, ואת-אביך ואת-אמך ואת-אחיך ואת כל-בית אביך, תאספי אליך הביתה.  יט והיה כל אשר-יצא מדלתי ביתך החוצה, דמו בראשו--ואנחנו נקים; וכל אשר יהיה אתך, בבית--דמו בראשנו, אם-יד תהיה-בו.  כ ואם-תגידי, את-דברנו זה--והיינו נקים, משבעתך אשר השבעתנו.  כא ותאמר כדבריכם כן-הוא, ותשלחם וילכו; ותקשר את-תקות השני, בחלון.  כב וילכו, ויבאו ההרה, וישבו שם שלשת ימים, עד-שבו הרדפים; ויבקשו הרדפים בכל-הדרך, ולא מצאו.  כג וישבו שני האנשים, וירדו מההר, ויעברו ויבאו, אל-יהושע בן-נון; ויספרו-לו--את כל-המצאות, אותם.  כד ויאמרו, אל-יהושע, כי-נתן יהוה בידנו, את-כל-הארץ; וגם-נמגו כל-ישבי הארץ, מפנינו.  {ס}\"\"\"\n",
        "\n",
        "audio_url = \"https://upload.wikimedia.org/wikipedia/commons/3/3d/F_Joshua-S02_Asael.oga\"\n"
      ]
    },
    {
      "cell_type": "code",
      "execution_count": 3,
      "metadata": {},
      "outputs": [
        {
          "data": {
            "text/plain": [
              "'ויהי, אחרי מות משה עבד יהוה, ויאמר יהוה אל-יהושע בן-נון, משרת משה לאמר. משה עבדי, מת, ועתה קום עבר את-הירדן הזה, אתה וכל-העם הזה, אל-הארץ, אשר אנכי נתן להם לבני ישראל. כל-מקום, אשר תדרך כף-רגלכם בו לכם נתתיו, כאשר דברתי, אל-משה. מהמדבר והלבנון הזה ועד-הנהר הגדול נהר-פרת, ארץ החתים, ועד-הים הגדול, מבוא השמש יהיה, גבולכם. לא-יתיצב איש לפניך, ימי חייך, כאשר הייתי עם-משה אהיה עמך, ארפך ולא אעזבך. חזק, ואמץ, אתה, תנחיל את-העם הזה, את-הארץ, אשר-נשבעתי לאבותם לתת להם. רק חזק ואמץ מאד, לשמר לעשות ככל-התורה אשר צוך משה עבדי, אל-תסור ממנו ימין ושמאול, למען תשכיל, בכל אשר תלך. לא-ימוש ספר התורה הזה מפיך, והגית יומם ולילה, למען תשמר לעשות, ככל-הכתוב בו, כי-אז תצליח את-דרכך, ואז תשכיל. הלוא צויתיך חזק ואמץ, אל-תערץ ואל-תחת, עמך יהוה אלהיך, בכל אשר תלך. ויצו יהושע, את-שטרי העם לאמר. עברו בקרב המחנה, וצוו את-העם לאמר, הכינו לכם, צידה, בעוד שלשת ימים, אתם עברים את-הירדן הזה, לבוא לרשת את-הארץ, אשר יהוה אלהיכם נתן לכם לרשתה. ולראובני, ולגדי, ולחצי, שבט המנשה אמר יהושע, לאמר. זכור, את-הדבר, אשר צוה אתכם משה עבד-יהוה, לאמר, יהוה אלהיכם מניח לכם, ונתן לכם את-הארץ הזאת. נשיכם טפכם, ומקניכם, ישבו, בארץ אשר נתן לכם משה בעבר הירדן, ואתם תעברו חמשים לפני אחיכם, גבורי החיל, ועזרתם, אותם. עד אשר-יניח יהוה לאחיכם, ככם, וירשו גם-המה, את-הארץ אשר-יהוה אלהיכם נתן להם, ושבתם לארץ ירשתכם, וירשתם אותה, אשר נתן לכם משה עבד יהוה, בעבר הירדן מזרח השמש. ויענו, את-יהושע לאמר, אשר-צויתנו נעשה, ואל-כל-אשר תשלחנו נלך. ככל אשר-שמענו אל-משה, נשמע אליך, יהיה יהוה אלהיך, עמך, כאשר היה, עם-משה. כל-איש אשר-ימרה את-פיך, ולא-ישמע את-דבריך לכל אשר-תצונו יומת, רק, חזק ואמץ.'"
            ]
          },
          "execution_count": 3,
          "metadata": {},
          "output_type": "execute_result"
        }
      ],
      "source": [
        "from src.hebrew_text_utils import (\n",
        "    replace_colon_and_semicolon_with_comma,\n",
        "    remove_curly_braces_and_content,\n",
        "    remove_pesukim_letters,\n",
        "    remove_hebrew_niqqud,\n",
        "    remove_extra_spaces,\n",
        ")\n",
        "\n",
        "\n",
        "clean_text = replace_colon_and_semicolon_with_comma(text)\n",
        "clean_text = remove_curly_braces_and_content(clean_text)\n",
        "clean_text = remove_pesukim_letters(clean_text)\n",
        "clean_text = remove_hebrew_niqqud(clean_text)\n",
        "clean_text = remove_extra_spaces(clean_text)\n",
        "clean_text = clean_text.replace(\"--\", \" \")\n",
        "\n",
        "\n",
        "clean_text"
      ]
    },
    {
      "cell_type": "code",
      "execution_count": 2,
      "metadata": {
        "colab": {
          "base_uri": "https://localhost:8080/"
        },
        "id": "JITai5yL1TCA",
        "outputId": "50290eff-9348-4403-a6db-c07f7347a61b"
      },
      "outputs": [
        {
          "name": "stdout",
          "output_type": "stream",
          "text": [
            "Collecting stable-ts\n",
            "  Downloading stable-ts-2.17.2.tar.gz (147 kB)\n",
            "\u001b[2K     \u001b[90m━━━━━━━━━━━━━━━━━━━━━━━━━━━━━━━━━━━━━━━━\u001b[0m \u001b[32m148.0/148.0 kB\u001b[0m \u001b[31m3.7 MB/s\u001b[0m eta \u001b[36m0:00:00\u001b[0m\n",
            "\u001b[?25h  Preparing metadata (setup.py) ... \u001b[?25l\u001b[?25hdone\n",
            "Requirement already satisfied: numpy in /usr/local/lib/python3.10/dist-packages (from stable-ts) (1.25.2)\n",
            "Requirement already satisfied: torch in /usr/local/lib/python3.10/dist-packages (from stable-ts) (2.2.1+cu121)\n",
            "Requirement already satisfied: torchaudio in /usr/local/lib/python3.10/dist-packages (from stable-ts) (2.2.1+cu121)\n",
            "Requirement already satisfied: tqdm in /usr/local/lib/python3.10/dist-packages (from stable-ts) (4.66.4)\n",
            "Collecting openai-whisper==20231117 (from stable-ts)\n",
            "  Downloading openai-whisper-20231117.tar.gz (798 kB)\n",
            "\u001b[2K     \u001b[90m━━━━━━━━━━━━━━━━━━━━━━━━━━━━━━━━━━━━━━━━\u001b[0m \u001b[32m798.6/798.6 kB\u001b[0m \u001b[31m9.6 MB/s\u001b[0m eta \u001b[36m0:00:00\u001b[0m\n",
            "\u001b[?25h  Installing build dependencies ... \u001b[?25l\u001b[?25hdone\n",
            "  Getting requirements to build wheel ... \u001b[?25l\u001b[?25hdone\n",
            "  Preparing metadata (pyproject.toml) ... \u001b[?25l\u001b[?25hdone\n",
            "Requirement already satisfied: triton<3,>=2.0.0 in /usr/local/lib/python3.10/dist-packages (from openai-whisper==20231117->stable-ts) (2.2.0)\n",
            "Requirement already satisfied: numba in /usr/local/lib/python3.10/dist-packages (from openai-whisper==20231117->stable-ts) (0.58.1)\n",
            "Requirement already satisfied: more-itertools in /usr/local/lib/python3.10/dist-packages (from openai-whisper==20231117->stable-ts) (10.1.0)\n",
            "Collecting tiktoken (from openai-whisper==20231117->stable-ts)\n",
            "  Downloading tiktoken-0.7.0-cp310-cp310-manylinux_2_17_x86_64.manylinux2014_x86_64.whl (1.1 MB)\n",
            "\u001b[2K     \u001b[90m━━━━━━━━━━━━━━━━━━━━━━━━━━━━━━━━━━━━━━━━\u001b[0m \u001b[32m1.1/1.1 MB\u001b[0m \u001b[31m14.4 MB/s\u001b[0m eta \u001b[36m0:00:00\u001b[0m\n",
            "\u001b[?25hRequirement already satisfied: filelock in /usr/local/lib/python3.10/dist-packages (from torch->stable-ts) (3.14.0)\n",
            "Requirement already satisfied: typing-extensions>=4.8.0 in /usr/local/lib/python3.10/dist-packages (from torch->stable-ts) (4.11.0)\n",
            "Requirement already satisfied: sympy in /usr/local/lib/python3.10/dist-packages (from torch->stable-ts) (1.12)\n",
            "Requirement already satisfied: networkx in /usr/local/lib/python3.10/dist-packages (from torch->stable-ts) (3.3)\n",
            "Requirement already satisfied: jinja2 in /usr/local/lib/python3.10/dist-packages (from torch->stable-ts) (3.1.4)\n",
            "Requirement already satisfied: fsspec in /usr/local/lib/python3.10/dist-packages (from torch->stable-ts) (2023.6.0)\n",
            "Collecting nvidia-cuda-nvrtc-cu12==12.1.105 (from torch->stable-ts)\n",
            "  Using cached nvidia_cuda_nvrtc_cu12-12.1.105-py3-none-manylinux1_x86_64.whl (23.7 MB)\n",
            "Collecting nvidia-cuda-runtime-cu12==12.1.105 (from torch->stable-ts)\n",
            "  Using cached nvidia_cuda_runtime_cu12-12.1.105-py3-none-manylinux1_x86_64.whl (823 kB)\n",
            "Collecting nvidia-cuda-cupti-cu12==12.1.105 (from torch->stable-ts)\n",
            "  Using cached nvidia_cuda_cupti_cu12-12.1.105-py3-none-manylinux1_x86_64.whl (14.1 MB)\n",
            "Collecting nvidia-cudnn-cu12==8.9.2.26 (from torch->stable-ts)\n",
            "  Using cached nvidia_cudnn_cu12-8.9.2.26-py3-none-manylinux1_x86_64.whl (731.7 MB)\n",
            "Collecting nvidia-cublas-cu12==12.1.3.1 (from torch->stable-ts)\n",
            "  Using cached nvidia_cublas_cu12-12.1.3.1-py3-none-manylinux1_x86_64.whl (410.6 MB)\n",
            "Collecting nvidia-cufft-cu12==11.0.2.54 (from torch->stable-ts)\n",
            "  Using cached nvidia_cufft_cu12-11.0.2.54-py3-none-manylinux1_x86_64.whl (121.6 MB)\n",
            "Collecting nvidia-curand-cu12==10.3.2.106 (from torch->stable-ts)\n",
            "  Using cached nvidia_curand_cu12-10.3.2.106-py3-none-manylinux1_x86_64.whl (56.5 MB)\n",
            "Collecting nvidia-cusolver-cu12==11.4.5.107 (from torch->stable-ts)\n",
            "  Using cached nvidia_cusolver_cu12-11.4.5.107-py3-none-manylinux1_x86_64.whl (124.2 MB)\n",
            "Collecting nvidia-cusparse-cu12==12.1.0.106 (from torch->stable-ts)\n",
            "  Using cached nvidia_cusparse_cu12-12.1.0.106-py3-none-manylinux1_x86_64.whl (196.0 MB)\n",
            "Collecting nvidia-nccl-cu12==2.19.3 (from torch->stable-ts)\n",
            "  Using cached nvidia_nccl_cu12-2.19.3-py3-none-manylinux1_x86_64.whl (166.0 MB)\n",
            "Collecting nvidia-nvtx-cu12==12.1.105 (from torch->stable-ts)\n",
            "  Using cached nvidia_nvtx_cu12-12.1.105-py3-none-manylinux1_x86_64.whl (99 kB)\n",
            "Collecting nvidia-nvjitlink-cu12 (from nvidia-cusolver-cu12==11.4.5.107->torch->stable-ts)\n",
            "  Using cached nvidia_nvjitlink_cu12-12.4.127-py3-none-manylinux2014_x86_64.whl (21.1 MB)\n",
            "Requirement already satisfied: MarkupSafe>=2.0 in /usr/local/lib/python3.10/dist-packages (from jinja2->torch->stable-ts) (2.1.5)\n",
            "Requirement already satisfied: llvmlite<0.42,>=0.41.0dev0 in /usr/local/lib/python3.10/dist-packages (from numba->openai-whisper==20231117->stable-ts) (0.41.1)\n",
            "Requirement already satisfied: mpmath>=0.19 in /usr/local/lib/python3.10/dist-packages (from sympy->torch->stable-ts) (1.3.0)\n",
            "Requirement already satisfied: regex>=2022.1.18 in /usr/local/lib/python3.10/dist-packages (from tiktoken->openai-whisper==20231117->stable-ts) (2023.12.25)\n",
            "Requirement already satisfied: requests>=2.26.0 in /usr/local/lib/python3.10/dist-packages (from tiktoken->openai-whisper==20231117->stable-ts) (2.31.0)\n",
            "Requirement already satisfied: charset-normalizer<4,>=2 in /usr/local/lib/python3.10/dist-packages (from requests>=2.26.0->tiktoken->openai-whisper==20231117->stable-ts) (3.3.2)\n",
            "Requirement already satisfied: idna<4,>=2.5 in /usr/local/lib/python3.10/dist-packages (from requests>=2.26.0->tiktoken->openai-whisper==20231117->stable-ts) (3.7)\n",
            "Requirement already satisfied: urllib3<3,>=1.21.1 in /usr/local/lib/python3.10/dist-packages (from requests>=2.26.0->tiktoken->openai-whisper==20231117->stable-ts) (2.0.7)\n",
            "Requirement already satisfied: certifi>=2017.4.17 in /usr/local/lib/python3.10/dist-packages (from requests>=2.26.0->tiktoken->openai-whisper==20231117->stable-ts) (2024.2.2)\n",
            "Building wheels for collected packages: stable-ts, openai-whisper\n",
            "  Building wheel for stable-ts (setup.py) ... \u001b[?25l\u001b[?25hdone\n",
            "  Created wheel for stable-ts: filename=stable_ts-2.17.2-py3-none-any.whl size=130674 sha256=40767e4d77d32343055cd74afa7a23221d10eeadbd319d121625eed96ea01a72\n",
            "  Stored in directory: /root/.cache/pip/wheels/ae/c5/df/86d8e8ee5aea7d5d104f9c314e4da25d731a701da0717a1c55\n",
            "  Building wheel for openai-whisper (pyproject.toml) ... \u001b[?25l\u001b[?25hdone\n",
            "  Created wheel for openai-whisper: filename=openai_whisper-20231117-py3-none-any.whl size=801358 sha256=3d3847bb495170a66c283f228ab24e5c6fb39aa496290ac4d270a18c20abdc3f\n",
            "  Stored in directory: /root/.cache/pip/wheels/d0/85/e1/9361b4cbea7dd4b7f6702fa4c3afc94877952eeb2b62f45f56\n",
            "Successfully built stable-ts openai-whisper\n",
            "Installing collected packages: nvidia-nvtx-cu12, nvidia-nvjitlink-cu12, nvidia-nccl-cu12, nvidia-curand-cu12, nvidia-cufft-cu12, nvidia-cuda-runtime-cu12, nvidia-cuda-nvrtc-cu12, nvidia-cuda-cupti-cu12, nvidia-cublas-cu12, tiktoken, nvidia-cusparse-cu12, nvidia-cudnn-cu12, nvidia-cusolver-cu12, openai-whisper, stable-ts\n",
            "Successfully installed nvidia-cublas-cu12-12.1.3.1 nvidia-cuda-cupti-cu12-12.1.105 nvidia-cuda-nvrtc-cu12-12.1.105 nvidia-cuda-runtime-cu12-12.1.105 nvidia-cudnn-cu12-8.9.2.26 nvidia-cufft-cu12-11.0.2.54 nvidia-curand-cu12-10.3.2.106 nvidia-cusolver-cu12-11.4.5.107 nvidia-cusparse-cu12-12.1.0.106 nvidia-nccl-cu12-2.19.3 nvidia-nvjitlink-cu12-12.4.127 nvidia-nvtx-cu12-12.1.105 openai-whisper-20231117 stable-ts-2.17.2 tiktoken-0.7.0\n"
          ]
        }
      ],
      "source": [
        "! pip install -U stable-ts"
      ]
    },
    {
      "cell_type": "code",
      "execution_count": null,
      "metadata": {
        "id": "KnDL_iuxl8rb"
      },
      "outputs": [],
      "source": [
        "\n",
        "text = \"\"\n",
        "\n",
        "with open('/content/stable-ts/text.txt', 'r') as file:\n",
        "\n",
        "    text = file.read()"
      ]
    },
    {
      "cell_type": "code",
      "execution_count": null,
      "metadata": {
        "id": "j3odzIiwfDpo"
      },
      "outputs": [],
      "source": [
        "! git clone https://github.com/yairl/ivrit.ai\n",
        "! pip install -r ivrit.ai/requirements.txt\n",
        "! mv ivrit.ai ivrit_ai"
      ]
    },
    {
      "cell_type": "code",
      "execution_count": 7,
      "metadata": {
        "colab": {
          "base_uri": "https://localhost:8080/"
        },
        "id": "KQsLFtE23dXc",
        "outputId": "7fc3f73d-bbbf-4bc3-e6ac-dd9541d0e4c4"
      },
      "outputs": [
        {
          "name": "stderr",
          "output_type": "stream",
          "text": [
            "100%|█████████████████████████████████████| 2.87G/2.87G [01:07<00:00, 45.9MiB/s]\n"
          ]
        }
      ],
      "source": [
        "import stable_whisper\n",
        "model = stable_whisper.load_model('large-v2')\n"
      ]
    },
    {
      "cell_type": "code",
      "execution_count": 8,
      "metadata": {
        "colab": {
          "base_uri": "https://localhost:8080/"
        },
        "id": "AT2UoKwQ04bF",
        "outputId": "850f12b1-3c4a-4975-b647-f46a5f83cbde"
      },
      "outputs": [
        {
          "name": "stderr",
          "output_type": "stream",
          "text": [
            "Align: 100%|██████████| 672.05/672.05 [00:17<00:00, 38.64sec/s] \n",
            "Adjustment: 100%|██████████| 327.44/327.44 [00:00<00:00, 10858.50sec/s]"
          ]
        },
        {
          "name": "stdout",
          "output_type": "stream",
          "text": [
            "<stable_whisper.result.WhisperResult object at 0x7cf3d8e55030>\n"
          ]
        },
        {
          "name": "stderr",
          "output_type": "stream",
          "text": [
            "\n"
          ]
        }
      ],
      "source": [
        "result = model.align(\n",
        "    '/content/audio.wav', text,\n",
        "    language='he')\n",
        "print(result)"
      ]
    },
    {
      "cell_type": "code",
      "execution_count": 11,
      "metadata": {
        "colab": {
          "base_uri": "https://localhost:8080/"
        },
        "id": "nNAX908v1ET7",
        "outputId": "27e0edd4-b5ab-4212-bced-a09f9b1615f1"
      },
      "outputs": [
        {
          "name": "stdout",
          "output_type": "stream",
          "text": [
            "Saved: /content/audio.srt\n",
            "Saved: /content/audio.json\n"
          ]
        }
      ],
      "source": [
        "result.to_srt_vtt('/content/audio.srt', word_level=False)\n",
        "result.save_as_json('/content/audio.json')"
      ]
    },
    {
      "cell_type": "code",
      "execution_count": null,
      "metadata": {
        "colab": {
          "base_uri": "https://localhost:8080/",
          "height": 54
        },
        "id": "qTOEE3Jv2wNF",
        "outputId": "1fbd5f78-e444-4ffc-a1a6-28dda4f06497"
      },
      "outputs": [
        {
          "data": {
            "application/vnd.google.colaboratory.intrinsic+json": {
              "type": "string"
            },
            "text/plain": [
              "'ואלה, שמות בני ישראל, הבאים, מצרימה, את יעקוב, איש וביתו באו. ראובן שמעון,\\nלוי ויהודה. יששכר זבולון, ובנימין. דן ונפתלי, גד ואשר. ויהי, כל נפש יצאי ירך יעקוב שיבעים נפש; ויוסף,'"
            ]
          },
          "execution_count": 7,
          "metadata": {},
          "output_type": "execute_result"
        }
      ],
      "source": [
        "result.to_txt()"
      ]
    },
    {
      "cell_type": "code",
      "execution_count": 3,
      "metadata": {
        "colab": {
          "base_uri": "https://localhost:8080/"
        },
        "id": "mC4WIPAHtMre",
        "outputId": "9a9470e2-3554-4624-c53c-2d561d89238b"
      },
      "outputs": [
        {
          "name": "stdout",
          "output_type": "stream",
          "text": [
            "--2024-05-17 18:00:51--  https://upload.wikimedia.org/wikipedia/commons/d/d7/F_Joshua-S01_Asael.oga\n",
            "Resolving upload.wikimedia.org (upload.wikimedia.org)... 198.35.26.112, 2620:0:863:ed1a::2:b\n",
            "Connecting to upload.wikimedia.org (upload.wikimedia.org)|198.35.26.112|:443... connected.\n",
            "HTTP request sent, awaiting response... 200 OK\n",
            "Length: 8307412 (7.9M) [application/ogg]\n",
            "Saving to: ‘audio.oga’\n",
            "\n",
            "audio.oga           100%[===================>]   7.92M  23.0MB/s    in 0.3s    \n",
            "\n",
            "2024-05-17 18:00:51 (23.0 MB/s) - ‘audio.oga’ saved [8307412/8307412]\n",
            "\n"
          ]
        }
      ],
      "source": [
        "! wget https://upload.wikimedia.org/wikipedia/commons/d/d7/F_Joshua-S01_Asael.oga -O audio.oga"
      ]
    },
    {
      "cell_type": "code",
      "execution_count": 4,
      "metadata": {
        "colab": {
          "base_uri": "https://localhost:8080/"
        },
        "id": "mhSRABfjud7I",
        "outputId": "57a9d6c0-1a12-4220-ebb3-d8d68ca9de90"
      },
      "outputs": [
        {
          "name": "stdout",
          "output_type": "stream",
          "text": [
            "ffmpeg version 4.4.2-0ubuntu0.22.04.1 Copyright (c) 2000-2021 the FFmpeg developers\n",
            "  built with gcc 11 (Ubuntu 11.2.0-19ubuntu1)\n",
            "  configuration: --prefix=/usr --extra-version=0ubuntu0.22.04.1 --toolchain=hardened --libdir=/usr/lib/x86_64-linux-gnu --incdir=/usr/include/x86_64-linux-gnu --arch=amd64 --enable-gpl --disable-stripping --enable-gnutls --enable-ladspa --enable-libaom --enable-libass --enable-libbluray --enable-libbs2b --enable-libcaca --enable-libcdio --enable-libcodec2 --enable-libdav1d --enable-libflite --enable-libfontconfig --enable-libfreetype --enable-libfribidi --enable-libgme --enable-libgsm --enable-libjack --enable-libmp3lame --enable-libmysofa --enable-libopenjpeg --enable-libopenmpt --enable-libopus --enable-libpulse --enable-librabbitmq --enable-librubberband --enable-libshine --enable-libsnappy --enable-libsoxr --enable-libspeex --enable-libsrt --enable-libssh --enable-libtheora --enable-libtwolame --enable-libvidstab --enable-libvorbis --enable-libvpx --enable-libwebp --enable-libx265 --enable-libxml2 --enable-libxvid --enable-libzimg --enable-libzmq --enable-libzvbi --enable-lv2 --enable-omx --enable-openal --enable-opencl --enable-opengl --enable-sdl2 --enable-pocketsphinx --enable-librsvg --enable-libmfx --enable-libdc1394 --enable-libdrm --enable-libiec61883 --enable-chromaprint --enable-frei0r --enable-libx264 --enable-shared\n",
            "  libavutil      56. 70.100 / 56. 70.100\n",
            "  libavcodec     58.134.100 / 58.134.100\n",
            "  libavformat    58. 76.100 / 58. 76.100\n",
            "  libavdevice    58. 13.100 / 58. 13.100\n",
            "  libavfilter     7.110.100 /  7.110.100\n",
            "  libswscale      5.  9.100 /  5.  9.100\n",
            "  libswresample   3.  9.100 /  3.  9.100\n",
            "  libpostproc    55.  9.100 / 55.  9.100\n",
            "Input #0, ogg, from 'audio.oga':\n",
            "  Duration: 00:11:12.04, start: 0.000000, bitrate: 98 kb/s\n",
            "  Stream #0:0: Audio: vorbis, 44100 Hz, stereo, fltp, 160 kb/s\n",
            "Stream mapping:\n",
            "  Stream #0:0 -> #0:0 (vorbis (native) -> pcm_s16le (native))\n",
            "Press [q] to stop, [?] for help\n",
            "Output #0, wav, to 'audio.wav':\n",
            "  Metadata:\n",
            "    ISFT            : Lavf58.76.100\n",
            "  Stream #0:0: Audio: pcm_s16le ([1][0][0][0] / 0x0001), 16000 Hz, mono, s16, 256 kb/s\n",
            "    Metadata:\n",
            "      encoder         : Lavc58.134.100 pcm_s16le\n",
            "size=   21002kB time=00:11:12.04 bitrate= 256.0kbits/s speed= 500x    \n",
            "video:0kB audio:21002kB subtitle:0kB other streams:0kB global headers:0kB muxing overhead: 0.000363%\n"
          ]
        }
      ],
      "source": [
        "! ffmpeg -y -i \"audio.oga\" -ac 1 -ar 16000 \"audio.wav\""
      ]
    }
  ],
  "metadata": {
    "accelerator": "GPU",
    "colab": {
      "gpuType": "T4",
      "provenance": []
    },
    "kernelspec": {
      "display_name": "Python 3",
      "name": "python3"
    },
    "language_info": {
      "codemirror_mode": {
        "name": "ipython",
        "version": 3
      },
      "file_extension": ".py",
      "mimetype": "text/x-python",
      "name": "python",
      "nbconvert_exporter": "python",
      "pygments_lexer": "ipython3",
      "version": "3.12.2"
    }
  },
  "nbformat": 4,
  "nbformat_minor": 0
}
